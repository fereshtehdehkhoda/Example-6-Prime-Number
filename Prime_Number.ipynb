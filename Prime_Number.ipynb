{
  "cells": [
    {
      "cell_type": "markdown",
      "metadata": {
        "id": "view-in-github",
        "colab_type": "text"
      },
      "source": [
        "<a href=\"https://colab.research.google.com/github/fereshtehdehkhoda/Example-6-Prime-Number/blob/main/Prime_Number.ipynb\" target=\"_parent\"><img src=\"https://colab.research.google.com/assets/colab-badge.svg\" alt=\"Open In Colab\"/></a>"
      ]
    },
    {
      "cell_type": "markdown",
      "id": "0c5de893-1f11-4fa4-a46f-8789f51470c3",
      "metadata": {
        "id": "0c5de893-1f11-4fa4-a46f-8789f51470c3"
      },
      "source": [
        "# Prime Number"
      ]
    },
    {
      "cell_type": "markdown",
      "id": "6d967092-e130-4b2e-984f-4cb4afa1297e",
      "metadata": {
        "id": "6d967092-e130-4b2e-984f-4cb4afa1297e"
      },
      "source": [
        "#عدد ورودی اول است یا نه؟\n",
        "#The input number is a prime number or not?"
      ]
    },
    {
      "cell_type": "code",
      "execution_count": null,
      "id": "eb0ae50c-4efc-4b6e-8481-b192a43c1b11",
      "metadata": {
        "id": "eb0ae50c-4efc-4b6e-8481-b192a43c1b11",
        "outputId": "b0fac7d9-50c1-400a-dc36-fdd55c1a5d52"
      },
      "outputs": [
        {
          "name": "stdin",
          "output_type": "stream",
          "text": [
            "Please Enter a number 1925320391606803\n"
          ]
        }
      ],
      "source": [
        "#Step1\n",
        "x=int(input('Please Enter a number'))"
      ]
    },
    {
      "cell_type": "code",
      "execution_count": null,
      "id": "5bd77a0b-3f35-4f3f-88eb-19426c6bef2a",
      "metadata": {
        "id": "5bd77a0b-3f35-4f3f-88eb-19426c6bef2a"
      },
      "outputs": [],
      "source": [
        "#Step2\n",
        "c=0\n",
        "for i in range(1,x+1):\n",
        "    if x%i==0:\n",
        "        c+=1\n",
        "\n",
        "\n",
        ""
      ]
    },
    {
      "cell_type": "code",
      "execution_count": null,
      "id": "5111bf49-9953-4e6d-b808-d818ffbc2630",
      "metadata": {
        "id": "5111bf49-9953-4e6d-b808-d818ffbc2630"
      },
      "outputs": [],
      "source": [
        "#Step3\n",
        "if c==2:\n",
        "    print('{inputx} is a prime number'.format(inputx=x))\n",
        "else:\n",
        "    print('{inputx} is not a prime number'.format(inputx=x))"
      ]
    },
    {
      "cell_type": "code",
      "execution_count": null,
      "id": "365bbf3c-0cd3-44a0-8528-2f4cb499798a",
      "metadata": {
        "id": "365bbf3c-0cd3-44a0-8528-2f4cb499798a"
      },
      "outputs": [],
      "source": []
    }
  ],
  "metadata": {
    "kernelspec": {
      "display_name": "Python 3 (ipykernel)",
      "language": "python",
      "name": "python3"
    },
    "language_info": {
      "codemirror_mode": {
        "name": "ipython",
        "version": 3
      },
      "file_extension": ".py",
      "mimetype": "text/x-python",
      "name": "python",
      "nbconvert_exporter": "python",
      "pygments_lexer": "ipython3",
      "version": "3.12.4"
    },
    "colab": {
      "provenance": [],
      "include_colab_link": true
    }
  },
  "nbformat": 4,
  "nbformat_minor": 5
}